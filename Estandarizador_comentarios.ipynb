{
 "cells": [
  {
   "cell_type": "markdown",
   "metadata": {},
   "source": [
    "# Limpiador de lista y comentarios\n",
    "***\n",
    "Generalizar el listado, por ejemplo si aparece Cristian o CRISTIAN, tengan un mismo formato."
   ]
  },
  {
   "cell_type": "code",
   "execution_count": 8,
   "metadata": {},
   "outputs": [],
   "source": [
    "import pandas as pd\n",
    "import re"
   ]
  },
  {
   "cell_type": "code",
   "execution_count": null,
   "metadata": {},
   "outputs": [
    {
     "data": {
      "text/html": [
       "<div>\n",
       "<style scoped>\n",
       "    .dataframe tbody tr th:only-of-type {\n",
       "        vertical-align: middle;\n",
       "    }\n",
       "\n",
       "    .dataframe tbody tr th {\n",
       "        vertical-align: top;\n",
       "    }\n",
       "\n",
       "    .dataframe thead th {\n",
       "        text-align: right;\n",
       "    }\n",
       "</style>\n",
       "<table border=\"1\" class=\"dataframe\">\n",
       "  <thead>\n",
       "    <tr style=\"text-align: right;\">\n",
       "      <th></th>\n",
       "      <th>Nombre del profesor</th>\n",
       "      <th>Departamento</th>\n",
       "      <th># Calificaciones</th>\n",
       "      <th>Promedio</th>\n",
       "    </tr>\n",
       "  </thead>\n",
       "  <tbody>\n",
       "    <tr>\n",
       "      <th>0</th>\n",
       "      <td>NaN</td>\n",
       "      <td>NaN</td>\n",
       "      <td>0</td>\n",
       "      <td>NaN</td>\n",
       "    </tr>\n",
       "    <tr>\n",
       "      <th>1</th>\n",
       "      <td>*A todos los pseudoalumnitos, Aunque me borren...</td>\n",
       "      <td>Computación</td>\n",
       "      <td>63</td>\n",
       "      <td>3.8</td>\n",
       "    </tr>\n",
       "    <tr>\n",
       "      <th>2</th>\n",
       "      <td>Adan Sosa, Fanny</td>\n",
       "      <td>Sociales</td>\n",
       "      <td>15</td>\n",
       "      <td>8.6</td>\n",
       "    </tr>\n",
       "    <tr>\n",
       "      <th>3</th>\n",
       "      <td>Aguilar García, Rafael</td>\n",
       "      <td>Programación</td>\n",
       "      <td>75</td>\n",
       "      <td>7.7</td>\n",
       "    </tr>\n",
       "    <tr>\n",
       "      <th>4</th>\n",
       "      <td>Aguilar Sanchez, Fernando</td>\n",
       "      <td>NaN</td>\n",
       "      <td>131</td>\n",
       "      <td>8.5</td>\n",
       "    </tr>\n",
       "  </tbody>\n",
       "</table>\n",
       "</div>"
      ],
      "text/plain": [
       "                                 Nombre del profesor  Departamento  \\\n",
       "0                                                NaN           NaN   \n",
       "1  *A todos los pseudoalumnitos, Aunque me borren...   Computación   \n",
       "2                                   Adan Sosa, Fanny      Sociales   \n",
       "3                             Aguilar García, Rafael  Programación   \n",
       "4                          Aguilar Sanchez, Fernando           NaN   \n",
       "\n",
       "   # Calificaciones  Promedio  \n",
       "0                 0       NaN  \n",
       "1                63       3.8  \n",
       "2                15       8.6  \n",
       "3                75       7.7  \n",
       "4               131       8.5  "
      ]
     },
     "execution_count": 2,
     "metadata": {},
     "output_type": "execute_result"
    }
   ],
   "source": [
    "listado = pd.read_csv('CSV/Listado_profesores.csv')\n",
    "listado.head()"
   ]
  },
  {
   "cell_type": "code",
   "execution_count": 3,
   "metadata": {},
   "outputs": [
    {
     "data": {
      "text/plain": [
       "0                                                    NaN\n",
       "1      *A todos los pseudoalumnitos, Aunque me borren...\n",
       "2                                       Adan Sosa, Fanny\n",
       "3                                 Aguilar García, Rafael\n",
       "4                              Aguilar Sanchez, Fernando\n",
       "                             ...                        \n",
       "452                                        Young Oh, Dae\n",
       "453                         ZAGAL FLORES, ROBERTO ESWART\n",
       "454                           Zarate Cardenas, Alejandro\n",
       "455                         ZEKKOUR ZEKKOUR AHMED, AHMED\n",
       "456                             Ávila-Sánchez, Christian\n",
       "Name: Nombre del profesor, Length: 457, dtype: object"
      ]
     },
     "execution_count": 3,
     "metadata": {},
     "output_type": "execute_result"
    }
   ],
   "source": [
    "listado[\"Nombre del profesor\"]"
   ]
  },
  {
   "cell_type": "code",
   "execution_count": 4,
   "metadata": {},
   "outputs": [
    {
     "data": {
      "text/plain": [
       "446"
      ]
     },
     "execution_count": 4,
     "metadata": {},
     "output_type": "execute_result"
    }
   ],
   "source": [
    "len(listado[\"Nombre del profesor\"].unique())"
   ]
  },
  {
   "cell_type": "code",
   "execution_count": 9,
   "metadata": {},
   "outputs": [],
   "source": [
    "def normalizar_nombre(nombre):\n",
    "    if pd.isnull(nombre):\n",
    "        return nombre\n",
    "    nombre = nombre.replace(\",\", \" \").replace(\"-\", \" \")\n",
    "    return ' '.join(word.capitalize() for word in nombre.split())\n",
    "\n",
    "def remover_acentos(nombre):\n",
    "    if isinstance(nombre, str):\n",
    "        nombre = re.sub(r'[áäâà]', 'a', nombre)\n",
    "        nombre = re.sub(r'[éêèë]', 'e', nombre)\n",
    "        nombre = re.sub(r'[íîìï]', 'i', nombre)\n",
    "        nombre = re.sub(r'[óôòö]', 'o', nombre)\n",
    "        nombre = re.sub(r'[úûùü]', 'u', nombre)\n",
    "        nombre = re.sub(r'[ÁÀÄÂÃ]', 'A', nombre)\n",
    "        nombre = re.sub(r'[ÉÈËÊ]', 'E', nombre)\n",
    "        nombre = re.sub(r'[ÍÌÏÎ]', 'I', nombre)\n",
    "        nombre = re.sub(r'[ÓÒÖÔÕ]', 'O', nombre)\n",
    "        nombre = re.sub(r'[ÚÙÜÛ]', 'U', nombre)\n",
    "    return nombre"
   ]
  },
  {
   "cell_type": "code",
   "execution_count": 6,
   "metadata": {},
   "outputs": [
    {
     "data": {
      "text/plain": [
       "0                                                    NaN\n",
       "1      *a Todos Los Pseudoalumnitos Aunque Me Borren ...\n",
       "2                                        Adan Sosa Fanny\n",
       "3                                  Aguilar García Rafael\n",
       "4                               Aguilar Sanchez Fernando\n",
       "                             ...                        \n",
       "452                                         Young Oh Dae\n",
       "453                          Zagal Flores Roberto Eswart\n",
       "454                            Zarate Cardenas Alejandro\n",
       "455                          Zekkour Zekkour Ahmed Ahmed\n",
       "456                              Ávila Sánchez Christian\n",
       "Name: Nombre del profesor, Length: 457, dtype: object"
      ]
     },
     "execution_count": 6,
     "metadata": {},
     "output_type": "execute_result"
    }
   ],
   "source": [
    "listado[\"Nombre del profesor\"] = listado[\"Nombre del profesor\"].apply(normalizar_nombre)\n",
    "listado[\"Nombre del profesor\"]"
   ]
  },
  {
   "cell_type": "code",
   "execution_count": 3,
   "metadata": {},
   "outputs": [
    {
     "data": {
      "text/html": [
       "<div>\n",
       "<style scoped>\n",
       "    .dataframe tbody tr th:only-of-type {\n",
       "        vertical-align: middle;\n",
       "    }\n",
       "\n",
       "    .dataframe tbody tr th {\n",
       "        vertical-align: top;\n",
       "    }\n",
       "\n",
       "    .dataframe thead th {\n",
       "        text-align: right;\n",
       "    }\n",
       "</style>\n",
       "<table border=\"1\" class=\"dataframe\">\n",
       "  <thead>\n",
       "    <tr style=\"text-align: right;\">\n",
       "      <th></th>\n",
       "      <th>Profesor</th>\n",
       "      <th>Fecha</th>\n",
       "      <th>Calificación</th>\n",
       "      <th>Calidad General</th>\n",
       "      <th>Facilidad</th>\n",
       "      <th>Clase</th>\n",
       "      <th>Asistencia</th>\n",
       "      <th>Calificación Recibida</th>\n",
       "      <th>Interés en la Clase</th>\n",
       "      <th>Comentario</th>\n",
       "      <th>Útil</th>\n",
       "      <th>Inútil</th>\n",
       "    </tr>\n",
       "  </thead>\n",
       "  <tbody>\n",
       "    <tr>\n",
       "      <th>0</th>\n",
       "      <td>Fanny Adan Sosa</td>\n",
       "      <td>29/Ene/2024</td>\n",
       "      <td>BUENO</td>\n",
       "      <td>10.0</td>\n",
       "      <td>8.0</td>\n",
       "      <td>Ingeniería Ética y Sociedad</td>\n",
       "      <td>No obligatoria</td>\n",
       "      <td>8.0</td>\n",
       "      <td>Alto</td>\n",
       "      <td>Exposiciones todo el semestre con diferentes e...</td>\n",
       "      <td>0</td>\n",
       "      <td>0</td>\n",
       "    </tr>\n",
       "    <tr>\n",
       "      <th>1</th>\n",
       "      <td>Fanny Adan Sosa</td>\n",
       "      <td>11/Jul/2023</td>\n",
       "      <td>BUENO</td>\n",
       "      <td>10.0</td>\n",
       "      <td>10.0</td>\n",
       "      <td>Inngenieria etica y sociedad</td>\n",
       "      <td>Obligatoria</td>\n",
       "      <td>10.0</td>\n",
       "      <td>Alto</td>\n",
       "      <td>Es la mejor profesora que puede haber, las cla...</td>\n",
       "      <td>0</td>\n",
       "      <td>0</td>\n",
       "    </tr>\n",
       "    <tr>\n",
       "      <th>2</th>\n",
       "      <td>Fanny Adan Sosa</td>\n",
       "      <td>04/Jul/2023</td>\n",
       "      <td>BUENO</td>\n",
       "      <td>10.0</td>\n",
       "      <td>8.0</td>\n",
       "      <td>Gestión Empresarial</td>\n",
       "      <td>No obligatoria</td>\n",
       "      <td>9.0</td>\n",
       "      <td>Alto</td>\n",
       "      <td>Grande la profesora, te deja tareas casi por s...</td>\n",
       "      <td>0</td>\n",
       "      <td>0</td>\n",
       "    </tr>\n",
       "    <tr>\n",
       "      <th>3</th>\n",
       "      <td>Fanny Adan Sosa</td>\n",
       "      <td>10/Feb/2023</td>\n",
       "      <td>BUENO</td>\n",
       "      <td>8.0</td>\n",
       "      <td>10.0</td>\n",
       "      <td>Ingenieria Etica y sociedad</td>\n",
       "      <td>No obligatoria</td>\n",
       "      <td>9.5</td>\n",
       "      <td>Medio</td>\n",
       "      <td>Te dejara leer un libro todo el curso, ira dej...</td>\n",
       "      <td>0</td>\n",
       "      <td>0</td>\n",
       "    </tr>\n",
       "    <tr>\n",
       "      <th>4</th>\n",
       "      <td>Fanny Adan Sosa</td>\n",
       "      <td>23/Ene/2023</td>\n",
       "      <td>BUENO</td>\n",
       "      <td>10.0</td>\n",
       "      <td>10.0</td>\n",
       "      <td>Ingenieria etica y sociedad</td>\n",
       "      <td>Obligatoria</td>\n",
       "      <td>8.0</td>\n",
       "      <td>Medio</td>\n",
       "      <td>Me hice medio wey y saque 8 jaja, en general d...</td>\n",
       "      <td>0</td>\n",
       "      <td>0</td>\n",
       "    </tr>\n",
       "  </tbody>\n",
       "</table>\n",
       "</div>"
      ],
      "text/plain": [
       "          Profesor        Fecha Calificación  Calidad General  Facilidad  \\\n",
       "0  Fanny Adan Sosa  29/Ene/2024        BUENO             10.0        8.0   \n",
       "1  Fanny Adan Sosa  11/Jul/2023        BUENO             10.0       10.0   \n",
       "2  Fanny Adan Sosa  04/Jul/2023        BUENO             10.0        8.0   \n",
       "3  Fanny Adan Sosa  10/Feb/2023        BUENO              8.0       10.0   \n",
       "4  Fanny Adan Sosa  23/Ene/2023        BUENO             10.0       10.0   \n",
       "\n",
       "                          Clase      Asistencia  Calificación Recibida  \\\n",
       "0   Ingeniería Ética y Sociedad  No obligatoria                    8.0   \n",
       "1  Inngenieria etica y sociedad     Obligatoria                   10.0   \n",
       "2           Gestión Empresarial  No obligatoria                    9.0   \n",
       "3   Ingenieria Etica y sociedad  No obligatoria                    9.5   \n",
       "4   Ingenieria etica y sociedad     Obligatoria                    8.0   \n",
       "\n",
       "  Interés en la Clase                                         Comentario  \\\n",
       "0                Alto  Exposiciones todo el semestre con diferentes e...   \n",
       "1                Alto  Es la mejor profesora que puede haber, las cla...   \n",
       "2                Alto  Grande la profesora, te deja tareas casi por s...   \n",
       "3               Medio  Te dejara leer un libro todo el curso, ira dej...   \n",
       "4               Medio  Me hice medio wey y saque 8 jaja, en general d...   \n",
       "\n",
       "   Útil  Inútil  \n",
       "0     0       0  \n",
       "1     0       0  \n",
       "2     0       0  \n",
       "3     0       0  \n",
       "4     0       0  "
      ]
     },
     "execution_count": 3,
     "metadata": {},
     "output_type": "execute_result"
    }
   ],
   "source": [
    "comentarios = pd.read_csv('CSV/Comentarios_Profesores.csv')\n",
    "comentarios.head()"
   ]
  },
  {
   "cell_type": "code",
   "execution_count": 4,
   "metadata": {},
   "outputs": [
    {
     "data": {
      "text/plain": [
       "0                Fanny Adan Sosa\n",
       "1                Fanny Adan Sosa\n",
       "2                Fanny Adan Sosa\n",
       "3                Fanny Adan Sosa\n",
       "4                Fanny Adan Sosa\n",
       "                  ...           \n",
       "13021    Christian Ávila-Sánchez\n",
       "13022    Christian Ávila-Sánchez\n",
       "13023    Christian Ávila-Sánchez\n",
       "13024    Christian Ávila-Sánchez\n",
       "13025    Christian Ávila-Sánchez\n",
       "Name: Profesor, Length: 13026, dtype: object"
      ]
     },
     "execution_count": 4,
     "metadata": {},
     "output_type": "execute_result"
    }
   ],
   "source": [
    "comentarios[\"Profesor\"]"
   ]
  },
  {
   "cell_type": "code",
   "execution_count": 13,
   "metadata": {},
   "outputs": [
    {
     "data": {
      "text/plain": [
       "391"
      ]
     },
     "execution_count": 13,
     "metadata": {},
     "output_type": "execute_result"
    }
   ],
   "source": [
    "len(comentarios[\"Profesor\"].unique())"
   ]
  },
  {
   "cell_type": "code",
   "execution_count": 10,
   "metadata": {},
   "outputs": [
    {
     "data": {
      "text/plain": [
       "0                Fanny Adan Sosa\n",
       "1                Fanny Adan Sosa\n",
       "2                Fanny Adan Sosa\n",
       "3                Fanny Adan Sosa\n",
       "4                Fanny Adan Sosa\n",
       "                  ...           \n",
       "13021    Christian Avila Sanchez\n",
       "13022    Christian Avila Sanchez\n",
       "13023    Christian Avila Sanchez\n",
       "13024    Christian Avila Sanchez\n",
       "13025    Christian Avila Sanchez\n",
       "Name: Profesor, Length: 13026, dtype: object"
      ]
     },
     "execution_count": 10,
     "metadata": {},
     "output_type": "execute_result"
    }
   ],
   "source": [
    "comentarios[\"Profesor\"] = comentarios[\"Profesor\"].apply(normalizar_nombre)\n",
    "comentarios[\"Profesor\"] = comentarios[\"Profesor\"].apply(remover_acentos)\n",
    "comentarios[\"Profesor\"]"
   ]
  },
  {
   "cell_type": "code",
   "execution_count": 11,
   "metadata": {},
   "outputs": [
    {
     "data": {
      "text/html": [
       "<div>\n",
       "<style scoped>\n",
       "    .dataframe tbody tr th:only-of-type {\n",
       "        vertical-align: middle;\n",
       "    }\n",
       "\n",
       "    .dataframe tbody tr th {\n",
       "        vertical-align: top;\n",
       "    }\n",
       "\n",
       "    .dataframe thead th {\n",
       "        text-align: right;\n",
       "    }\n",
       "</style>\n",
       "<table border=\"1\" class=\"dataframe\">\n",
       "  <thead>\n",
       "    <tr style=\"text-align: right;\">\n",
       "      <th></th>\n",
       "      <th>Profesor</th>\n",
       "      <th>Fecha</th>\n",
       "      <th>Calificación</th>\n",
       "      <th>Calidad General</th>\n",
       "      <th>Facilidad</th>\n",
       "      <th>Clase</th>\n",
       "      <th>Asistencia</th>\n",
       "      <th>Calificación Recibida</th>\n",
       "      <th>Interés en la Clase</th>\n",
       "      <th>Comentario</th>\n",
       "      <th>Útil</th>\n",
       "      <th>Inútil</th>\n",
       "    </tr>\n",
       "  </thead>\n",
       "  <tbody>\n",
       "    <tr>\n",
       "      <th>13021</th>\n",
       "      <td>Christian Avila Sanchez</td>\n",
       "      <td>19/Jun/2018</td>\n",
       "      <td>BUENO</td>\n",
       "      <td>10.0</td>\n",
       "      <td>10.0</td>\n",
       "      <td>Discretas</td>\n",
       "      <td>Obligatoria</td>\n",
       "      <td>9.0</td>\n",
       "      <td>Alto</td>\n",
       "      <td>Gran profesor con quien aprendes muy bien</td>\n",
       "      <td>0</td>\n",
       "      <td>1</td>\n",
       "    </tr>\n",
       "    <tr>\n",
       "      <th>13022</th>\n",
       "      <td>Christian Avila Sanchez</td>\n",
       "      <td>19/Ene/2018</td>\n",
       "      <td>BUENO</td>\n",
       "      <td>10.0</td>\n",
       "      <td>10.0</td>\n",
       "      <td>Matemáticas Discretas</td>\n",
       "      <td>No obligatoria</td>\n",
       "      <td>9.0</td>\n",
       "      <td>Alto</td>\n",
       "      <td>NaN</td>\n",
       "      <td>1</td>\n",
       "      <td>0</td>\n",
       "    </tr>\n",
       "    <tr>\n",
       "      <th>13023</th>\n",
       "      <td>Christian Avila Sanchez</td>\n",
       "      <td>10/Ene/2018</td>\n",
       "      <td>BUENO</td>\n",
       "      <td>10.0</td>\n",
       "      <td>8.0</td>\n",
       "      <td>Matemáticas Discretas</td>\n",
       "      <td>No obligatoria</td>\n",
       "      <td>9.0</td>\n",
       "      <td>Alto</td>\n",
       "      <td>Un profesor que realmente sabe transmitir cono...</td>\n",
       "      <td>0</td>\n",
       "      <td>0</td>\n",
       "    </tr>\n",
       "    <tr>\n",
       "      <th>13024</th>\n",
       "      <td>Christian Avila Sanchez</td>\n",
       "      <td>26/Dic/2017</td>\n",
       "      <td>BUENO</td>\n",
       "      <td>10.0</td>\n",
       "      <td>10.0</td>\n",
       "      <td>Matemáticas Discretas</td>\n",
       "      <td>No obligatoria</td>\n",
       "      <td>9.0</td>\n",
       "      <td>Alto</td>\n",
       "      <td>Buen profesor, te da las facilidades para pasa...</td>\n",
       "      <td>0</td>\n",
       "      <td>0</td>\n",
       "    </tr>\n",
       "    <tr>\n",
       "      <th>13025</th>\n",
       "      <td>Christian Avila Sanchez</td>\n",
       "      <td>17/Dic/2017</td>\n",
       "      <td>BUENO</td>\n",
       "      <td>9.0</td>\n",
       "      <td>10.0</td>\n",
       "      <td>Computación e Información Cuántica</td>\n",
       "      <td>No obligatoria</td>\n",
       "      <td>10.0</td>\n",
       "      <td>Alto</td>\n",
       "      <td>El profe explica bien,pero se necesitan tener ...</td>\n",
       "      <td>0</td>\n",
       "      <td>0</td>\n",
       "    </tr>\n",
       "  </tbody>\n",
       "</table>\n",
       "</div>"
      ],
      "text/plain": [
       "                      Profesor        Fecha Calificación  Calidad General  \\\n",
       "13021  Christian Avila Sanchez  19/Jun/2018        BUENO             10.0   \n",
       "13022  Christian Avila Sanchez  19/Ene/2018        BUENO             10.0   \n",
       "13023  Christian Avila Sanchez  10/Ene/2018        BUENO             10.0   \n",
       "13024  Christian Avila Sanchez  26/Dic/2017        BUENO             10.0   \n",
       "13025  Christian Avila Sanchez  17/Dic/2017        BUENO              9.0   \n",
       "\n",
       "       Facilidad                               Clase      Asistencia  \\\n",
       "13021       10.0                           Discretas     Obligatoria   \n",
       "13022       10.0               Matemáticas Discretas  No obligatoria   \n",
       "13023        8.0               Matemáticas Discretas  No obligatoria   \n",
       "13024       10.0               Matemáticas Discretas  No obligatoria   \n",
       "13025       10.0  Computación e Información Cuántica  No obligatoria   \n",
       "\n",
       "       Calificación Recibida Interés en la Clase  \\\n",
       "13021                    9.0                Alto   \n",
       "13022                    9.0                Alto   \n",
       "13023                    9.0                Alto   \n",
       "13024                    9.0                Alto   \n",
       "13025                   10.0                Alto   \n",
       "\n",
       "                                              Comentario  Útil  Inútil  \n",
       "13021          Gran profesor con quien aprendes muy bien     0       1  \n",
       "13022                                                NaN     1       0  \n",
       "13023  Un profesor que realmente sabe transmitir cono...     0       0  \n",
       "13024  Buen profesor, te da las facilidades para pasa...     0       0  \n",
       "13025  El profe explica bien,pero se necesitan tener ...     0       0  "
      ]
     },
     "execution_count": 11,
     "metadata": {},
     "output_type": "execute_result"
    }
   ],
   "source": [
    "comentarios.tail()"
   ]
  },
  {
   "cell_type": "code",
   "execution_count": 12,
   "metadata": {},
   "outputs": [],
   "source": [
    "comentarios.to_csv('CSV/Comentarios_Profesores_Generalizado.csv', index=False)"
   ]
  },
  {
   "cell_type": "code",
   "execution_count": 13,
   "metadata": {},
   "outputs": [],
   "source": [
    "listado.to_csv('CSV/Listado_profesores_Generalizado.csv', index=False)"
   ]
  },
  {
   "cell_type": "code",
   "execution_count": null,
   "metadata": {},
   "outputs": [],
   "source": []
  }
 ],
 "metadata": {
  "kernelspec": {
   "display_name": "Python 3",
   "language": "python",
   "name": "python3"
  },
  "language_info": {
   "codemirror_mode": {
    "name": "ipython",
    "version": 3
   },
   "file_extension": ".py",
   "mimetype": "text/x-python",
   "name": "python",
   "nbconvert_exporter": "python",
   "pygments_lexer": "ipython3",
   "version": "3.12.1"
  }
 },
 "nbformat": 4,
 "nbformat_minor": 2
}
